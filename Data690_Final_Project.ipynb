{
 "cells": [
  {
   "cell_type": "markdown",
   "id": "153c79fd",
   "metadata": {},
   "source": [
    "Data690 Fianl Project and Presentation Guideline"
   ]
  },
  {
   "cell_type": "markdown",
   "id": "e44c15f4",
   "metadata": {},
   "source": [
    "**Final Project Report Guidelines**\n",
    "\n",
    "I will post your group members on Blackboard soon. Please communicate with your group member as soon as possible.<Br>\n",
    "    You are free to choose any datset to analyze and present for your project. \n",
    "\n",
    "**Part 1 (In class Presentation)**\n",
    "\n",
    "-For your presentation, each person will have approximately 6-7 minutes to showcase their project in class.<Br> \n",
    "This presentation contributes to 40% of your final project evaluation. The presentation must be in class  <Br>\n",
    "    with no exceptions.\n",
    "\n",
    "**Part 2 (submit a report)**\n",
    "\n",
    "*For your final project, you and your teammate are required to submit a report detailing the <Br>\n",
    "various aspects of your work. There is no specific format requirement or page limit, but a formal<Br>\n",
    "report should cover the following key components:*\n",
    "\n",
    "**Title:**\n",
    "- Include a clear and concise title that reflects the essence of your final project.\n",
    "\n",
    "**1. Background:**\n",
    "- Provide an introduction to the project, outlining its context and significance.\n",
    "- Clearly state the objective of the study and the hypothesis or research question you aim to address.\n",
    "\n",
    "**2. Data:**\n",
    "- Describe the dataset used for the project, highlighting its relevance to your research question.\n",
    "- Include a summary table and present key descriptive statistics related to your research question.\n",
    "\n",
    "**3. Methods:**\n",
    "- Clearly emphasize your research question(s)?\n",
    "- What is your hypothesis test? \n",
    "- Clearly emphasiz your Null and Alternative hypothesis.\n",
    "- Outline the methods employed to address your research question.\n",
    "- Describe in detail how the chosen method or model is applied in your specific context.\n",
    "- Specify the model and any relevant parameters if applicable.\n",
    "- Use statistical methods for data analysis and visualization.\n",
    "\n",
    "**4. Results:**\n",
    "- Report the major findings and results of your analysis.\n",
    "- Summarize the key outcomes and highlight any patterns or trends observed in the data.\n",
    "\n",
    "**5. Conclusion and Discussion:**\n",
    "- Summarize the main conclusions drawn from your analysis.\n",
    "- Discuss any limitations encountered during the project and reflect on their impact.\n",
    "- Provide recommendations or suggestions based on your analysis.\n",
    "  \n",
    "**6. Appendix:**\n",
    "- Include the Python code used for data cleaning, manipulation, modeling, and analysis.\n",
    "- Ensure that the code is well-commented and organized for clarity.\n",
    "\n",
    "*Note: This outline serves as a guide, and you are encouraged to adapt it based on the specific requirements and preferences of your project. Aim for a comprehensive and well-structured report that effectively communicates the process, methodology, and outcomes of your final project.*"
   ]
  }
 ],
 "metadata": {
  "kernelspec": {
   "display_name": "Python 3 (ipykernel)",
   "language": "python",
   "name": "python3"
  },
  "language_info": {
   "codemirror_mode": {
    "name": "ipython",
    "version": 3
   },
   "file_extension": ".py",
   "mimetype": "text/x-python",
   "name": "python",
   "nbconvert_exporter": "python",
   "pygments_lexer": "ipython3",
   "version": "3.11.4"
  }
 },
 "nbformat": 4,
 "nbformat_minor": 5
}
